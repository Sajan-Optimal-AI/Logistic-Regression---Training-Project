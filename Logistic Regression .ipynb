{
 "cells": [
  {
   "cell_type": "code",
   "execution_count": 1,
   "metadata": {},
   "outputs": [
    {
     "name": "stdout",
     "output_type": "stream",
     "text": [
      "              precision    recall  f1-score   support\n",
      "\n",
      "      setosa       1.00      1.00      1.00        10\n",
      "  versicolor       1.00      0.89      0.94         9\n",
      "   virginica       0.92      1.00      0.96        11\n",
      "\n",
      "    accuracy                           0.97        30\n",
      "   macro avg       0.97      0.96      0.97        30\n",
      "weighted avg       0.97      0.97      0.97        30\n",
      "\n",
      "0.9666666666666667\n",
      "[[[20  0]\n",
      "  [ 0 10]]\n",
      "\n",
      " [[21  0]\n",
      "  [ 1  8]]\n",
      "\n",
      " [[18  1]\n",
      "  [ 0 11]]]\n"
     ]
    },
    {
     "data": {
      "image/png": "[encoded data removed]",
      "text/plain": [
       "<Figure size 432x288 with 1 Axes>"
      ]
     },
     "metadata": {
      "needs_background": "light"
     },
     "output_type": "display_data"
    }
   ],
   "source": [
    "#logistic regression - understanding\n",
    "from sklearn.linear_model import LogisticRegression\n",
    "from sklearn.model_selection import train_test_split\n",
    "import seaborn as sns\n",
    "import matplotlib.pyplot as plt\n",
    "from  sklearn.metrics import accuracy_score\n",
    "from sklearn.metrics import multilabel_confusion_matrix\n",
    "from sklearn.metrics import classification_report\n",
    "from sklearn.metrics import roc_curve, auc\n",
    "from sklearn import datasets\n",
    "#iris = datasets.load_iris() - this way of importing dataset nevel calls the function head for a quick look of data.\n",
    "iris = sns.load_dataset(\"iris\") # this way of importing dataset lend a hand to call the function head()\n",
    "#iris.head()\n",
    "X = iris.iloc[:,:-1]\n",
    "y = iris.iloc[:,-1]\n",
    "#print(X,y)\n",
    "plt.xlabel('features') \n",
    "plt.ylabel('label')\n",
    "pltX1 = iris.iloc[:,:1]\n",
    "pltY1 = iris.iloc[:,-1]\n",
    "plt.scatter(pltX1,pltY1, color = 'blue', label=\"sepal_length\")\n",
    "pltX2 = iris.iloc[:,1:2]\n",
    "pltY2 = iris.iloc[:,-1]\n",
    "plt.scatter(pltX2,pltY2, color = 'green', label=\"sepal_width\")\n",
    "pltX3 = iris.iloc[:,2:3]\n",
    "pltY3 = iris.iloc[:,-1]\n",
    "plt.scatter(pltX3,pltY3, color = 'yellow', label=\"petal_length\")\n",
    "pltX4 = iris.iloc[:,3:4]\n",
    "pltY4 = iris.iloc[:,-1]\n",
    "plt.scatter(pltX4,pltY4, color = 'red', label=\"petal_width\")\n",
    "plt.legend(loc=4, prop={'size':7})\n",
    "plt.show\n",
    "X_train , X_test , y_train , y_test = train_test_split(X,y, test_size = 0.2 , random_state = 42) # split the data\n",
    "Model_iris = LogisticRegression(solver='lbfgs', multi_class='ovr') # create the model # solver tries to minimize the cost function\n",
    "Model_iris.fit(X_train , y_train) # train the model\n",
    "predictions = Model_iris.predict(X_test)\n",
    "pred_by_decision_function = Model_iris.decision_function(X_test)\n",
    "#print(predictions) #(To perform manual check)\n",
    "#print(y_test)\n",
    "print(classification_report(y_test,predictions)) # check precision,recall,f1-score\n",
    "print(accuracy_score(y_test , predictions))\n",
    "print(multilabel_confusion_matrix(y_test , predictions))"
   ]
  }
 ],
 "metadata": {
  "kernelspec": {
   "display_name": "Python 3",
   "language": "python",
   "name": "python3"
  },
  "language_info": {
   "codemirror_mode": {
    "name": "ipython",
    "version": 3
   },
   "file_extension": ".py",
   "mimetype": "text/x-python",
   "name": "python",
   "nbconvert_exporter": "python",
   "pygments_lexer": "ipython3",
   "version": "3.8.5"
  }
 },
 "nbformat": 4,
 "nbformat_minor": 4
}
